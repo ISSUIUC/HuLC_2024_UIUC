{
 "cells": [
  {
   "cell_type": "code",
   "execution_count": 1,
   "metadata": {},
   "outputs": [],
   "source": [
    "from sympy import *\n",
    "import numpy as np\n",
    "import matplotlib.pyplot as plt\n",
    "# from labellines import labelLines"
   ]
  },
  {
   "cell_type": "code",
   "execution_count": 2,
   "metadata": {},
   "outputs": [],
   "source": [
    "p_c = Symbol(\"p_c\")\n",
    "h = Symbol(\"h\")\n",
    "theta = Symbol(\"theta\")\n",
    "theta = 45/180*pi \n",
    "beta = Symbol(\"beta\")\n",
    "beta = 0"
   ]
  },
  {
   "cell_type": "code",
   "execution_count": 3,
   "metadata": {},
   "outputs": [],
   "source": [
    "r_e = Symbol(\"r_e\") #[m] nozzle radius exit"
   ]
  },
  {
   "cell_type": "code",
   "execution_count": 4,
   "metadata": {},
   "outputs": [],
   "source": [
    "g = 1.62 # gravitational constant\n",
    "\n",
    "#Set exhast gas parameters (fuel mixture estimate)\n",
    "R = 8.314/0.028 #[J/mol·K] universal gas constant, normalized by molar mass\n",
    "gamma = 1.26 # heat capacity ratio\n",
    "mu_c = 17.49E-6 #[Pa.s] #viscosity in the rocket chamber\n",
    "\n",
    "M_e = 5 #nozzle exit mach number\n",
    "T_c = 3400 #[K] #temperature in the rocket chamber\n",
    "#Configure the surface geology parameters\n",
    "D = (109) *1e-6 #diameter of dust particles (microns)\n",
    "c = 0.6 #packing concentration in dust layer\n",
    "sigma = 2500 #[kg/m3]density of dust particle\n",
    "\n",
    "A_coh = 0 #cohesional shear stress (experimental)\n",
    "tau_coh = 0 #cohesional shear stress (experimental)\n",
    "alpha = (20)*pi/180 #static angle of repose of cohensionless particles (deg)\n",
    "alpha_collapse = (25)*pi/180 #angle of repose at which avalanche start (deg)\n",
    "\n",
    "K = 1 # shear stress augmentation factor"
   ]
  },
  {
   "cell_type": "code",
   "execution_count": 5,
   "metadata": {},
   "outputs": [],
   "source": [
    "k = gamma*(gamma-1)*M_e**2 #hypersonic simularity parameter\n",
    "p_r = p_c*(1+gamma*M_e**2)/(1+(gamma-1)/2*M_e**2)**(gamma/(gamma-1)) #post-shock recovery pressure without inverse-square propagation\n",
    "# p_s = minimum(p_r,(k+2)/2*(r_e/h)**2*p_r) #post-shock centerline pressure with inverse-square propagation\n",
    "p_s = (k+2)/2*(r_e/h)**2*p_r\n",
    "p = p_s*cos(theta)**(k+4)*cos(beta)**2*(1-tan(theta)*tan(beta))**2 #ground pressure\n",
    "u = sqrt(2*gamma/(gamma-1)*R*T_c*(1-(p/p_s)**((gamma-1)/gamma))) #velocity parallel to surface\n",
    "q = (gamma/(gamma-1))*(1-(p/p_s)**((gamma-1)/gamma))*(p/p_s)**(1/gamma)*p_s #dynamic pressure\n",
    "rho = 2*q/(u**2) #density\n",
    "mu = mu_c*(p/p_s)**((gamma-1)/(2*gamma)) #gas viscosity\n",
    "\n",
    "#Reynolds Numbers\n",
    "Re_D = rho*u*D/mu #particle Reynold number\n",
    "# Re_theta = rho*u*r/mu #surface Reynold number\n",
    "\n",
    "#Fluid Coefficents\n",
    "C_d = 24/Re_D #+ 3/Re_D**2 +0.34 #friction coefficient of particles\n",
    "C_f = 0.84 #friction coefficient of surface\n",
    "\n",
    "#Calculated derived values continued\n",
    "tau = K*C_f*q #surface shear\n",
    "tau_star = sigma*c*D*g*(cos(beta)*tan(alpha) - sin(beta)) + A_coh*D**(-3) + tau_coh #shear retaining stress\n",
    "Xi = 18*mu_c*h/(sigma*D**2*sqrt(R*T_c*(k+4)))*(1+((k+2)*D*C_d*p_r)/(72*sqrt(2)*mu_c*sqrt(R*T_c))*(r_e/h)**2) #goes inside the momentum factor\n",
    "a = 1/(0.5 + sqrt( 0.25 + (1/Xi) )) #momentum factor\n",
    "\n",
    "#Calculate erosion rate\n",
    "dy_dt = 2*(tau-tau_star)/(a*u*sigma*c*cos(beta)) # erosion rate"
   ]
  },
  {
   "cell_type": "code",
   "execution_count": 6,
   "metadata": {},
   "outputs": [
    {
     "data": {
      "text/latex": [
       "$\\displaystyle - 2.6928276640805 \\cdot 10^{-6} \\sqrt{0.000755339180869809 + \\frac{1}{h + 2.59509137619566 \\sqrt{2} h}} \\tan{\\left(\\frac{\\pi}{9} \\right)} - 7.40081531642018 \\cdot 10^{-8} \\tan{\\left(\\frac{\\pi}{9} \\right)} + \\frac{1.25661809151427 \\cdot 10^{-7} p_{c} r_{e}^{2} \\sqrt{0.000755339180869809 + \\frac{1}{h + 2.59509137619566 \\sqrt{2} h}}}{h^{2}} + \\frac{3.45361812143486 \\cdot 10^{-9} p_{c} r_{e}^{2}}{h^{2}}$"
      ],
      "text/plain": [
       "-2.6928276640805e-6*sqrt(0.000755339180869809 + 1/(h + 2.59509137619566*sqrt(2)*h))*tan(pi/9) - 7.40081531642018e-8*tan(pi/9) + 1.25661809151427e-7*p_c*r_e**2*sqrt(0.000755339180869809 + 1/(h + 2.59509137619566*sqrt(2)*h))/h**2 + 3.45361812143486e-9*p_c*r_e**2/h**2"
      ]
     },
     "execution_count": 6,
     "metadata": {},
     "output_type": "execute_result"
    }
   ],
   "source": [
    "dy_dt.expand()"
   ]
  },
  {
   "cell_type": "code",
   "execution_count": 7,
   "metadata": {},
   "outputs": [
    {
     "data": {
      "text/latex": [
       "$\\displaystyle \\frac{\\left(- 0.52974 h^{2} \\tan{\\left(\\frac{\\pi}{9} \\right)} + 0.0247205150436568 p_{c} r_{e}^{2}\\right) \\left(5.08330060799731 \\cdot 10^{-6} \\sqrt{0.000755339180869809 + 0.00196017419437793 \\sqrt{2} + \\frac{1}{h}} + 1.39706560131766 \\cdot 10^{-7} \\sqrt{1 + 2.59509137619566 \\sqrt{2}}\\right)}{h^{2} \\sqrt{1 + 2.59509137619566 \\sqrt{2}}}$"
      ],
      "text/plain": [
       "(-0.52974*h**2*tan(pi/9) + 0.0247205150436568*p_c*r_e**2)*(5.08330060799731e-6*sqrt(0.000755339180869809 + 0.00196017419437793*sqrt(2) + 1/h) + 1.39706560131766e-7*sqrt(1 + 2.59509137619566*sqrt(2)))/(h**2*sqrt(1 + 2.59509137619566*sqrt(2)))"
      ]
     },
     "execution_count": 7,
     "metadata": {},
     "output_type": "execute_result"
    }
   ],
   "source": [
    "factor(dy_dt, p_c)"
   ]
  },
  {
   "cell_type": "code",
   "execution_count": 8,
   "metadata": {},
   "outputs": [
    {
     "data": {
      "text/latex": [
       "$\\displaystyle 0.00915528648061939 r_{e}^{2} - 1.72866270180526 \\cdot 10^{-7}$"
      ],
      "text/plain": [
       "0.00915528648061939*r_e**2 - 1.72866270180526e-7"
      ]
     },
     "execution_count": 8,
     "metadata": {},
     "output_type": "execute_result"
    }
   ],
   "source": [
    "const_pc = (51634.837*4)*200\n",
    "const_pc2 = (51634.837*4)*2\n",
    "N(dy_dt.subs([(h, 10),(p_c, const_pc)]))"
   ]
  },
  {
   "cell_type": "code",
   "execution_count": 9,
   "metadata": {},
   "outputs": [],
   "source": [
    "plt.rcParams.update({'font.size': 20, 'font.family' : 'Times New Roman'})\n",
    "heights = np.linspace(1,1000,10000)\n",
    "r_e_ac = 1\n",
    "dummy_heights = heights/(r_e_ac*2)\n",
    "erosion_rate = []\n",
    "fig, ax = plt.subplots(figsize=(12,12))\n",
    "ax.plot()\n",
    "\n",
    "range1 = np.linspace(5, 29.956, 2) * 6895\n",
    "# lander = np.array([758423]) # apollo, CE-20\n",
    "range2 = np.linspace(38.765, 119.523, 4) * 6895\n",
    "range3 = np.linspace(119.523 * 6895, 6e6, 5)\n",
    "range_pc = np.sort(np.concatenate((range1, range2, range3)))\n",
    "# dummy_range = range_pc * (10e-4)\n",
    "mapofcolors = plt.cm.Wistia_r(np.linspace(0, 0.75, len(range_pc)))[::-1]\n",
    "\n",
    "for idx, const_pc in enumerate(range_pc):\n",
    "    erosion_rate = []\n",
    "    for i in heights:\n",
    "        erosion_rate_m = float(N(dy_dt.subs([(h, i),(p_c, const_pc), (r_e, r_e_ac)])))\n",
    "        erosion_rate_yD = erosion_rate_m * (r_e_ac*2)\n",
    "        erosion_rate.append(erosion_rate_yD)\n",
    "    color = mapofcolors[idx]\n",
    "    label_str = \"\"\n",
    "    if idx == 5:\n",
    "        label_str = f\"Apollo LDM: {np.round(const_pc*1e-6,3)}MPa\"\n",
    "    elif idx == 10:\n",
    "        label_str = f\"CE-20: {np.round(const_pc*1e-6,3)}MPa\"\n",
    "    else:\n",
    "        label_str = f\"{np.round(const_pc*1e-6,3)}MPa\"\n",
    "    ax.plot(dummy_heights, erosion_rate, label = label_str, color=color)\n",
    "# labelLines(plt.gca().get_lines(), zorder=2.5)\n",
    "plt.title('Erosion Rate vs Height for varying Chamber Pressures')\n",
    "plt.xlabel('Height (h/d)')\n",
    "plt.ylabel('Erosion Rate ((y/D)/s)')\n",
    "plt.legend()\n",
    "# ax.set_ylim(bottom = -, top = 1.0)\n",
    "# ax.set_xlim(right = 40.0)\n",
    "plt.xscale('log')\n",
    "# plt.yscale('log')\n",
    "plt.grid()"
   ]
  }
 ],
 "metadata": {
  "kernelspec": {
   "display_name": "Python 3",
   "language": "python",
   "name": "python3"
  },
  "language_info": {
   "codemirror_mode": {
    "name": "ipython",
    "version": 3
   },
   "file_extension": ".py",
   "mimetype": "text/x-python",
   "name": "python",
   "nbconvert_exporter": "python",
   "pygments_lexer": "ipython3",
   "version": "3.10.7"
  }
 },
 "nbformat": 4,
 "nbformat_minor": 2
}
